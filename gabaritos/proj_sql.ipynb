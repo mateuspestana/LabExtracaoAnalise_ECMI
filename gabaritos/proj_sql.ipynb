{
 "cells": [
  {
   "cell_type": "markdown",
   "source": [
    "# Projeto 5 - Trabalhando com dados do TSE em SQL\n",
    "\n",
    "### Prof. Matheus C. Pestana\n",
    "\n",
    "O objetivo do projeto é trabalhar com os dados do TSE em SQL. Para isso, vamos utilizar um banco de dados que contém 4 tabelas: candidatos, bens, resultados e receitas. Abaixo, as conexões do banco estão criadas, bem como o cursor. É necessário que o arquivo [aqui](https://github.com/mateuspestana/LabExtracaoAnalise_ECMI/raw/main/bases/TSE.sqlite) seja baixado e colocado no Google Colab para que o código funcione.\n",
    "\n",
    "O projeto consiste em responder as 5 perguntas abaixo listadas, utilizando o banco de dados fornecido. Cada pergunta vale 0,15, e a última, dado o nível de complexidade, vale 0,4, totalizando 1,0 ponto. "
   ],
   "metadata": {
    "collapsed": false
   },
   "id": "4947e86b9b866154"
  },
  {
   "cell_type": "code",
   "execution_count": null,
   "id": "initial_id",
   "metadata": {
    "collapsed": true
   },
   "outputs": [],
   "source": [
    "import pandas as pd\n",
    "import sqlite3\n",
    "\n",
    "conn = sqlite3.connect('TSE.sqlite')\n",
    "cursor = conn.cursor()"
   ]
  },
  {
   "cell_type": "code",
   "execution_count": 5,
   "outputs": [
    {
     "data": {
      "text/plain": "[('candidatos',), ('resultados',), ('receitas',), ('bens',)]"
     },
     "execution_count": 5,
     "metadata": {},
     "output_type": "execute_result"
    }
   ],
   "source": [
    "# Lista todas as tabelas\n",
    "cursor.execute(\"SELECT name FROM sqlite_master WHERE type='table';\").fetchall()"
   ],
   "metadata": {
    "collapsed": false,
    "ExecuteTime": {
     "end_time": "2023-10-08T19:13:17.078143Z",
     "start_time": "2023-10-08T19:13:17.049765Z"
    }
   },
   "id": "52546d9e11f025f4"
  },
  {
   "cell_type": "code",
   "execution_count": 12,
   "outputs": [
    {
     "data": {
      "text/plain": "    ano       tipo_eleicao sigla_uf id_municipio id_municipio_tse  \\\n0  2022  eleicao ordinaria       SP         None             None   \n1  2022  eleicao ordinaria       PR         None             None   \n2  2022  eleicao ordinaria       MG         None             None   \n3  2022  eleicao ordinaria       SP         None             None   \n4  2022  eleicao ordinaria       SP         None             None   \n\n  id_candidato_bd          cpf titulo_eleitoral    sequencial numero  ...  \\\n0            2140  32391423845     292390560141  250001640576   2122  ...   \n1            7522  32659766886     318686160132  160001655029   2100  ...   \n2            9152  32732330876     254436660183  130001644581   1655  ...   \n3           39303  34242154810     329810830191  250001611413   1616  ...   \n4           61207  35388748839     363394180141  250001611411   1610  ...   \n\n  data_nascimento idade     genero                 instrucao estado_civil  \\\n0          5080.0    39  masculino  ensino superior completo  solteiro(a)   \n1          5223.0    38  masculino  ensino superior completo    casado(a)   \n2          5158.0    39   feminino  ensino superior completo  solteiro(a)   \n3          5972.0    36  masculino     ensino medio completo    casado(a)   \n4          7236.0    33   feminino  ensino superior completo  solteiro(a)   \n\n  nacionalidade sigla_uf_nascimento  municipio_nascimento  email    raca  \n0    brasileira                  SP             Catanduva   None  branca  \n1    brasileira                  SP             São Paulo   None  branca  \n2    brasileira                  SP             São Paulo   None  branca  \n3    brasileira                  SP             São Paulo   None  branca  \n4    brasileira                  SP             São Paulo   None  branca  \n\n[5 rows x 27 columns]",
      "text/html": "<div>\n<style scoped>\n    .dataframe tbody tr th:only-of-type {\n        vertical-align: middle;\n    }\n\n    .dataframe tbody tr th {\n        vertical-align: top;\n    }\n\n    .dataframe thead th {\n        text-align: right;\n    }\n</style>\n<table border=\"1\" class=\"dataframe\">\n  <thead>\n    <tr style=\"text-align: right;\">\n      <th></th>\n      <th>ano</th>\n      <th>tipo_eleicao</th>\n      <th>sigla_uf</th>\n      <th>id_municipio</th>\n      <th>id_municipio_tse</th>\n      <th>id_candidato_bd</th>\n      <th>cpf</th>\n      <th>titulo_eleitoral</th>\n      <th>sequencial</th>\n      <th>numero</th>\n      <th>...</th>\n      <th>data_nascimento</th>\n      <th>idade</th>\n      <th>genero</th>\n      <th>instrucao</th>\n      <th>estado_civil</th>\n      <th>nacionalidade</th>\n      <th>sigla_uf_nascimento</th>\n      <th>municipio_nascimento</th>\n      <th>email</th>\n      <th>raca</th>\n    </tr>\n  </thead>\n  <tbody>\n    <tr>\n      <th>0</th>\n      <td>2022</td>\n      <td>eleicao ordinaria</td>\n      <td>SP</td>\n      <td>None</td>\n      <td>None</td>\n      <td>2140</td>\n      <td>32391423845</td>\n      <td>292390560141</td>\n      <td>250001640576</td>\n      <td>2122</td>\n      <td>...</td>\n      <td>5080.0</td>\n      <td>39</td>\n      <td>masculino</td>\n      <td>ensino superior completo</td>\n      <td>solteiro(a)</td>\n      <td>brasileira</td>\n      <td>SP</td>\n      <td>Catanduva</td>\n      <td>None</td>\n      <td>branca</td>\n    </tr>\n    <tr>\n      <th>1</th>\n      <td>2022</td>\n      <td>eleicao ordinaria</td>\n      <td>PR</td>\n      <td>None</td>\n      <td>None</td>\n      <td>7522</td>\n      <td>32659766886</td>\n      <td>318686160132</td>\n      <td>160001655029</td>\n      <td>2100</td>\n      <td>...</td>\n      <td>5223.0</td>\n      <td>38</td>\n      <td>masculino</td>\n      <td>ensino superior completo</td>\n      <td>casado(a)</td>\n      <td>brasileira</td>\n      <td>SP</td>\n      <td>São Paulo</td>\n      <td>None</td>\n      <td>branca</td>\n    </tr>\n    <tr>\n      <th>2</th>\n      <td>2022</td>\n      <td>eleicao ordinaria</td>\n      <td>MG</td>\n      <td>None</td>\n      <td>None</td>\n      <td>9152</td>\n      <td>32732330876</td>\n      <td>254436660183</td>\n      <td>130001644581</td>\n      <td>1655</td>\n      <td>...</td>\n      <td>5158.0</td>\n      <td>39</td>\n      <td>feminino</td>\n      <td>ensino superior completo</td>\n      <td>solteiro(a)</td>\n      <td>brasileira</td>\n      <td>SP</td>\n      <td>São Paulo</td>\n      <td>None</td>\n      <td>branca</td>\n    </tr>\n    <tr>\n      <th>3</th>\n      <td>2022</td>\n      <td>eleicao ordinaria</td>\n      <td>SP</td>\n      <td>None</td>\n      <td>None</td>\n      <td>39303</td>\n      <td>34242154810</td>\n      <td>329810830191</td>\n      <td>250001611413</td>\n      <td>1616</td>\n      <td>...</td>\n      <td>5972.0</td>\n      <td>36</td>\n      <td>masculino</td>\n      <td>ensino medio completo</td>\n      <td>casado(a)</td>\n      <td>brasileira</td>\n      <td>SP</td>\n      <td>São Paulo</td>\n      <td>None</td>\n      <td>branca</td>\n    </tr>\n    <tr>\n      <th>4</th>\n      <td>2022</td>\n      <td>eleicao ordinaria</td>\n      <td>SP</td>\n      <td>None</td>\n      <td>None</td>\n      <td>61207</td>\n      <td>35388748839</td>\n      <td>363394180141</td>\n      <td>250001611411</td>\n      <td>1610</td>\n      <td>...</td>\n      <td>7236.0</td>\n      <td>33</td>\n      <td>feminino</td>\n      <td>ensino superior completo</td>\n      <td>solteiro(a)</td>\n      <td>brasileira</td>\n      <td>SP</td>\n      <td>São Paulo</td>\n      <td>None</td>\n      <td>branca</td>\n    </tr>\n  </tbody>\n</table>\n<p>5 rows × 27 columns</p>\n</div>"
     },
     "execution_count": 12,
     "metadata": {},
     "output_type": "execute_result"
    }
   ],
   "source": [
    "# E se quiséssemos as primeiras 5 linhas da tabela de candidatos?\n",
    "pd.read_sql_query(\"SELECT * FROM candidatos LIMIT 5;\", conn)"
   ],
   "metadata": {
    "collapsed": false,
    "ExecuteTime": {
     "end_time": "2023-10-08T19:34:49.345527Z",
     "start_time": "2023-10-08T19:34:49.308965Z"
    }
   },
   "id": "f76a2482ef17764a"
  },
  {
   "cell_type": "code",
   "execution_count": 14,
   "outputs": [
    {
     "data": {
      "text/plain": "     0                  1   2     3     4      5            6             7   \\\n0  2022  eleicao ordinaria  SP  None  None   2140  32391423845  292390560141   \n1  2022  eleicao ordinaria  PR  None  None   7522  32659766886  318686160132   \n2  2022  eleicao ordinaria  MG  None  None   9152  32732330876  254436660183   \n3  2022  eleicao ordinaria  SP  None  None  39303  34242154810  329810830191   \n4  2022  eleicao ordinaria  SP  None  None  61207  35388748839  363394180141   \n\n             8     9   ...      17  18         19                        20  \\\n0  250001640576  2122  ...  5080.0  39  masculino  ensino superior completo   \n1  160001655029  2100  ...  5223.0  38  masculino  ensino superior completo   \n2  130001644581  1655  ...  5158.0  39   feminino  ensino superior completo   \n3  250001611413  1616  ...  5972.0  36  masculino     ensino medio completo   \n4  250001611411  1610  ...  7236.0  33   feminino  ensino superior completo   \n\n            21          22  23         24    25      26  \n0  solteiro(a)  brasileira  SP  Catanduva  None  branca  \n1    casado(a)  brasileira  SP  São Paulo  None  branca  \n2  solteiro(a)  brasileira  SP  São Paulo  None  branca  \n3    casado(a)  brasileira  SP  São Paulo  None  branca  \n4  solteiro(a)  brasileira  SP  São Paulo  None  branca  \n\n[5 rows x 27 columns]",
      "text/html": "<div>\n<style scoped>\n    .dataframe tbody tr th:only-of-type {\n        vertical-align: middle;\n    }\n\n    .dataframe tbody tr th {\n        vertical-align: top;\n    }\n\n    .dataframe thead th {\n        text-align: right;\n    }\n</style>\n<table border=\"1\" class=\"dataframe\">\n  <thead>\n    <tr style=\"text-align: right;\">\n      <th></th>\n      <th>0</th>\n      <th>1</th>\n      <th>2</th>\n      <th>3</th>\n      <th>4</th>\n      <th>5</th>\n      <th>6</th>\n      <th>7</th>\n      <th>8</th>\n      <th>9</th>\n      <th>...</th>\n      <th>17</th>\n      <th>18</th>\n      <th>19</th>\n      <th>20</th>\n      <th>21</th>\n      <th>22</th>\n      <th>23</th>\n      <th>24</th>\n      <th>25</th>\n      <th>26</th>\n    </tr>\n  </thead>\n  <tbody>\n    <tr>\n      <th>0</th>\n      <td>2022</td>\n      <td>eleicao ordinaria</td>\n      <td>SP</td>\n      <td>None</td>\n      <td>None</td>\n      <td>2140</td>\n      <td>32391423845</td>\n      <td>292390560141</td>\n      <td>250001640576</td>\n      <td>2122</td>\n      <td>...</td>\n      <td>5080.0</td>\n      <td>39</td>\n      <td>masculino</td>\n      <td>ensino superior completo</td>\n      <td>solteiro(a)</td>\n      <td>brasileira</td>\n      <td>SP</td>\n      <td>Catanduva</td>\n      <td>None</td>\n      <td>branca</td>\n    </tr>\n    <tr>\n      <th>1</th>\n      <td>2022</td>\n      <td>eleicao ordinaria</td>\n      <td>PR</td>\n      <td>None</td>\n      <td>None</td>\n      <td>7522</td>\n      <td>32659766886</td>\n      <td>318686160132</td>\n      <td>160001655029</td>\n      <td>2100</td>\n      <td>...</td>\n      <td>5223.0</td>\n      <td>38</td>\n      <td>masculino</td>\n      <td>ensino superior completo</td>\n      <td>casado(a)</td>\n      <td>brasileira</td>\n      <td>SP</td>\n      <td>São Paulo</td>\n      <td>None</td>\n      <td>branca</td>\n    </tr>\n    <tr>\n      <th>2</th>\n      <td>2022</td>\n      <td>eleicao ordinaria</td>\n      <td>MG</td>\n      <td>None</td>\n      <td>None</td>\n      <td>9152</td>\n      <td>32732330876</td>\n      <td>254436660183</td>\n      <td>130001644581</td>\n      <td>1655</td>\n      <td>...</td>\n      <td>5158.0</td>\n      <td>39</td>\n      <td>feminino</td>\n      <td>ensino superior completo</td>\n      <td>solteiro(a)</td>\n      <td>brasileira</td>\n      <td>SP</td>\n      <td>São Paulo</td>\n      <td>None</td>\n      <td>branca</td>\n    </tr>\n    <tr>\n      <th>3</th>\n      <td>2022</td>\n      <td>eleicao ordinaria</td>\n      <td>SP</td>\n      <td>None</td>\n      <td>None</td>\n      <td>39303</td>\n      <td>34242154810</td>\n      <td>329810830191</td>\n      <td>250001611413</td>\n      <td>1616</td>\n      <td>...</td>\n      <td>5972.0</td>\n      <td>36</td>\n      <td>masculino</td>\n      <td>ensino medio completo</td>\n      <td>casado(a)</td>\n      <td>brasileira</td>\n      <td>SP</td>\n      <td>São Paulo</td>\n      <td>None</td>\n      <td>branca</td>\n    </tr>\n    <tr>\n      <th>4</th>\n      <td>2022</td>\n      <td>eleicao ordinaria</td>\n      <td>SP</td>\n      <td>None</td>\n      <td>None</td>\n      <td>61207</td>\n      <td>35388748839</td>\n      <td>363394180141</td>\n      <td>250001611411</td>\n      <td>1610</td>\n      <td>...</td>\n      <td>7236.0</td>\n      <td>33</td>\n      <td>feminino</td>\n      <td>ensino superior completo</td>\n      <td>solteiro(a)</td>\n      <td>brasileira</td>\n      <td>SP</td>\n      <td>São Paulo</td>\n      <td>None</td>\n      <td>branca</td>\n    </tr>\n  </tbody>\n</table>\n<p>5 rows × 27 columns</p>\n</div>"
     },
     "execution_count": 14,
     "metadata": {},
     "output_type": "execute_result"
    }
   ],
   "source": [
    "# Ou...\n",
    "pd.DataFrame(\n",
    "    cursor.execute(\"SELECT * FROM candidatos LIMIT 5;\").fetchall()\n",
    ")"
   ],
   "metadata": {
    "collapsed": false,
    "ExecuteTime": {
     "end_time": "2023-10-08T19:35:06.287076Z",
     "start_time": "2023-10-08T19:35:06.277436Z"
    }
   },
   "id": "d02007181a5bc0ce"
  },
  {
   "cell_type": "markdown",
   "source": [
    "## 1) Quantos candidatos foram eleitos em cada estado? Liste os estados em ordem alfabética. A tabela deve conter apenas a coluna do estado e a quantidade de eleitos. (0,15)"
   ],
   "metadata": {
    "collapsed": false
   },
   "id": "7c531dfe3cc304a3"
  },
  {
   "cell_type": "code",
   "execution_count": 7,
   "outputs": [
    {
     "data": {
      "text/plain": "   sigla_uf  qtd_eleitos\n0        AC            8\n1        AL            9\n2        AM            8\n3        AP            8\n4        BA           39\n5        CE           22\n6        DF            8\n7        ES           10\n8        GO           17\n9        MA           18\n10       MG           53\n11       MS            8\n12       MT            8\n13       PA           17\n14       PB           12\n15       PE           25\n16       PI           10\n17       PR           30\n18       RJ           46\n19       RN            8\n20       RO            8\n21       RR            8\n22       RS           31\n23       SC           16\n24       SE            8\n25       SP           70\n26       TO            8",
      "text/html": "<div>\n<style scoped>\n    .dataframe tbody tr th:only-of-type {\n        vertical-align: middle;\n    }\n\n    .dataframe tbody tr th {\n        vertical-align: top;\n    }\n\n    .dataframe thead th {\n        text-align: right;\n    }\n</style>\n<table border=\"1\" class=\"dataframe\">\n  <thead>\n    <tr style=\"text-align: right;\">\n      <th></th>\n      <th>sigla_uf</th>\n      <th>qtd_eleitos</th>\n    </tr>\n  </thead>\n  <tbody>\n    <tr>\n      <th>0</th>\n      <td>AC</td>\n      <td>8</td>\n    </tr>\n    <tr>\n      <th>1</th>\n      <td>AL</td>\n      <td>9</td>\n    </tr>\n    <tr>\n      <th>2</th>\n      <td>AM</td>\n      <td>8</td>\n    </tr>\n    <tr>\n      <th>3</th>\n      <td>AP</td>\n      <td>8</td>\n    </tr>\n    <tr>\n      <th>4</th>\n      <td>BA</td>\n      <td>39</td>\n    </tr>\n    <tr>\n      <th>5</th>\n      <td>CE</td>\n      <td>22</td>\n    </tr>\n    <tr>\n      <th>6</th>\n      <td>DF</td>\n      <td>8</td>\n    </tr>\n    <tr>\n      <th>7</th>\n      <td>ES</td>\n      <td>10</td>\n    </tr>\n    <tr>\n      <th>8</th>\n      <td>GO</td>\n      <td>17</td>\n    </tr>\n    <tr>\n      <th>9</th>\n      <td>MA</td>\n      <td>18</td>\n    </tr>\n    <tr>\n      <th>10</th>\n      <td>MG</td>\n      <td>53</td>\n    </tr>\n    <tr>\n      <th>11</th>\n      <td>MS</td>\n      <td>8</td>\n    </tr>\n    <tr>\n      <th>12</th>\n      <td>MT</td>\n      <td>8</td>\n    </tr>\n    <tr>\n      <th>13</th>\n      <td>PA</td>\n      <td>17</td>\n    </tr>\n    <tr>\n      <th>14</th>\n      <td>PB</td>\n      <td>12</td>\n    </tr>\n    <tr>\n      <th>15</th>\n      <td>PE</td>\n      <td>25</td>\n    </tr>\n    <tr>\n      <th>16</th>\n      <td>PI</td>\n      <td>10</td>\n    </tr>\n    <tr>\n      <th>17</th>\n      <td>PR</td>\n      <td>30</td>\n    </tr>\n    <tr>\n      <th>18</th>\n      <td>RJ</td>\n      <td>46</td>\n    </tr>\n    <tr>\n      <th>19</th>\n      <td>RN</td>\n      <td>8</td>\n    </tr>\n    <tr>\n      <th>20</th>\n      <td>RO</td>\n      <td>8</td>\n    </tr>\n    <tr>\n      <th>21</th>\n      <td>RR</td>\n      <td>8</td>\n    </tr>\n    <tr>\n      <th>22</th>\n      <td>RS</td>\n      <td>31</td>\n    </tr>\n    <tr>\n      <th>23</th>\n      <td>SC</td>\n      <td>16</td>\n    </tr>\n    <tr>\n      <th>24</th>\n      <td>SE</td>\n      <td>8</td>\n    </tr>\n    <tr>\n      <th>25</th>\n      <td>SP</td>\n      <td>70</td>\n    </tr>\n    <tr>\n      <th>26</th>\n      <td>TO</td>\n      <td>8</td>\n    </tr>\n  </tbody>\n</table>\n</div>"
     },
     "execution_count": 7,
     "metadata": {},
     "output_type": "execute_result"
    }
   ],
   "source": [
    "pd.read_sql_query(\"\"\"\n",
    "SELECT sigla_uf, COUNT(sigla_uf) AS qtd_eleitos FROM resultados where resultado in ('eleito por qp', 'eleito por media') AND cargo = 'deputado federal' GROUP BY sigla_uf ORDER BY sigla_uf ASC;\n",
    "\"\"\", conn)"
   ],
   "metadata": {
    "collapsed": false,
    "ExecuteTime": {
     "end_time": "2023-10-08T19:17:26.570839Z",
     "start_time": "2023-10-08T19:17:26.559696Z"
    }
   },
   "id": "e01e132f8f2509f0"
  },
  {
   "cell_type": "markdown",
   "source": [
    "## 2) Qual o valor máximo, médio e mínimo de bens de cada candidato? A tabela deve constar apenas o id do candidato e o valor máximo, médio e mínimo. (0,15)"
   ],
   "metadata": {
    "collapsed": false
   },
   "id": "86a39aac63d3fd6f"
  },
  {
   "cell_type": "code",
   "execution_count": 11,
   "outputs": [
    {
     "data": {
      "text/plain": "      id_candidato_bd  valor_medio  valor_maximo  valor_minimo\n0             1230228  18000000.00   18000000.00   18000000.00\n1             1494542  10620000.00   10620000.00   10620000.00\n2             1385754   9051034.03    9051034.03    9051034.03\n3              974681   5000000.00    5000000.00    5000000.00\n4              695172   5000000.00    5000000.00    5000000.00\n...               ...          ...           ...           ...\n17931         1065540          NaN           NaN           NaN\n17932         1061951          NaN           NaN           NaN\n17933         1046442          NaN           NaN           NaN\n17934         1015442          NaN           NaN           NaN\n17935         1002071          NaN           NaN           NaN\n\n[17936 rows x 4 columns]",
      "text/html": "<div>\n<style scoped>\n    .dataframe tbody tr th:only-of-type {\n        vertical-align: middle;\n    }\n\n    .dataframe tbody tr th {\n        vertical-align: top;\n    }\n\n    .dataframe thead th {\n        text-align: right;\n    }\n</style>\n<table border=\"1\" class=\"dataframe\">\n  <thead>\n    <tr style=\"text-align: right;\">\n      <th></th>\n      <th>id_candidato_bd</th>\n      <th>valor_medio</th>\n      <th>valor_maximo</th>\n      <th>valor_minimo</th>\n    </tr>\n  </thead>\n  <tbody>\n    <tr>\n      <th>0</th>\n      <td>1230228</td>\n      <td>18000000.00</td>\n      <td>18000000.00</td>\n      <td>18000000.00</td>\n    </tr>\n    <tr>\n      <th>1</th>\n      <td>1494542</td>\n      <td>10620000.00</td>\n      <td>10620000.00</td>\n      <td>10620000.00</td>\n    </tr>\n    <tr>\n      <th>2</th>\n      <td>1385754</td>\n      <td>9051034.03</td>\n      <td>9051034.03</td>\n      <td>9051034.03</td>\n    </tr>\n    <tr>\n      <th>3</th>\n      <td>974681</td>\n      <td>5000000.00</td>\n      <td>5000000.00</td>\n      <td>5000000.00</td>\n    </tr>\n    <tr>\n      <th>4</th>\n      <td>695172</td>\n      <td>5000000.00</td>\n      <td>5000000.00</td>\n      <td>5000000.00</td>\n    </tr>\n    <tr>\n      <th>...</th>\n      <td>...</td>\n      <td>...</td>\n      <td>...</td>\n      <td>...</td>\n    </tr>\n    <tr>\n      <th>17931</th>\n      <td>1065540</td>\n      <td>NaN</td>\n      <td>NaN</td>\n      <td>NaN</td>\n    </tr>\n    <tr>\n      <th>17932</th>\n      <td>1061951</td>\n      <td>NaN</td>\n      <td>NaN</td>\n      <td>NaN</td>\n    </tr>\n    <tr>\n      <th>17933</th>\n      <td>1046442</td>\n      <td>NaN</td>\n      <td>NaN</td>\n      <td>NaN</td>\n    </tr>\n    <tr>\n      <th>17934</th>\n      <td>1015442</td>\n      <td>NaN</td>\n      <td>NaN</td>\n      <td>NaN</td>\n    </tr>\n    <tr>\n      <th>17935</th>\n      <td>1002071</td>\n      <td>NaN</td>\n      <td>NaN</td>\n      <td>NaN</td>\n    </tr>\n  </tbody>\n</table>\n<p>17936 rows × 4 columns</p>\n</div>"
     },
     "execution_count": 11,
     "metadata": {},
     "output_type": "execute_result"
    }
   ],
   "source": [
    "pd.read_sql_query(\"\"\"\n",
    "SELECT id_candidato_bd, AVG(valor_item) AS valor_medio, MAX(valor_item) as valor_maximo, MIN(valor_item) as valor_minimo FROM bens GROUP BY id_candidato_bd ORDER BY valor_minimo DESC;\n",
    "\"\"\", conn)"
   ],
   "metadata": {
    "collapsed": false,
    "ExecuteTime": {
     "end_time": "2023-10-08T19:31:44.756755Z",
     "start_time": "2023-10-08T19:31:44.612342Z"
    }
   },
   "id": "f840668b72e52cb0"
  },
  {
   "cell_type": "markdown",
   "source": [
    "## 3) Qual candidato a deputado federal teve mais voto por estado? Liste o nome do candidato, o estado e a quantidade de votos. A tabela de saída deve conter apenas o estado, o id do candidato, o nome de urna do candidato e a quantidade de votos. Apenas 1 candidato por estado. (0,15)"
   ],
   "metadata": {
    "collapsed": false
   },
   "id": "8c6b98f8717ad4da"
  },
  {
   "cell_type": "code",
   "execution_count": 22,
   "outputs": [
    {
     "data": {
      "text/plain": "   sigla_uf id_candidato_bd  qtd_votos\n0        AC           71359      25842\n1        AL          527943     219452\n2        AM         1210410     288555\n3        AP          193247      27112\n4        BA          528494     200909\n5        CE         1177108     229509\n6        DF          117641     214733\n7        ES          635795     120337\n8        GO          804852     254653\n9        MA          690597     161206\n10       MG         1383460    1492047\n11       MS          567911     103111\n12       MT         1750846     124671\n13       PA          846246     258907\n14       PB         1073704     158171\n15       PE          638723     273267\n16       PI         1639645     134863\n17       PR          938176     344917\n18       RJ         1244391     213706\n19       RN         1107085     157565\n20       RO          753202      85604\n21       RR          607059      19881\n22       RS          585476     259023\n23       SC         1138005     227632\n24       SE         1138490     131471\n25       SP         1615029    1001472\n26       TO         1501325      63813",
      "text/html": "<div>\n<style scoped>\n    .dataframe tbody tr th:only-of-type {\n        vertical-align: middle;\n    }\n\n    .dataframe tbody tr th {\n        vertical-align: top;\n    }\n\n    .dataframe thead th {\n        text-align: right;\n    }\n</style>\n<table border=\"1\" class=\"dataframe\">\n  <thead>\n    <tr style=\"text-align: right;\">\n      <th></th>\n      <th>sigla_uf</th>\n      <th>id_candidato_bd</th>\n      <th>qtd_votos</th>\n    </tr>\n  </thead>\n  <tbody>\n    <tr>\n      <th>0</th>\n      <td>AC</td>\n      <td>71359</td>\n      <td>25842</td>\n    </tr>\n    <tr>\n      <th>1</th>\n      <td>AL</td>\n      <td>527943</td>\n      <td>219452</td>\n    </tr>\n    <tr>\n      <th>2</th>\n      <td>AM</td>\n      <td>1210410</td>\n      <td>288555</td>\n    </tr>\n    <tr>\n      <th>3</th>\n      <td>AP</td>\n      <td>193247</td>\n      <td>27112</td>\n    </tr>\n    <tr>\n      <th>4</th>\n      <td>BA</td>\n      <td>528494</td>\n      <td>200909</td>\n    </tr>\n    <tr>\n      <th>5</th>\n      <td>CE</td>\n      <td>1177108</td>\n      <td>229509</td>\n    </tr>\n    <tr>\n      <th>6</th>\n      <td>DF</td>\n      <td>117641</td>\n      <td>214733</td>\n    </tr>\n    <tr>\n      <th>7</th>\n      <td>ES</td>\n      <td>635795</td>\n      <td>120337</td>\n    </tr>\n    <tr>\n      <th>8</th>\n      <td>GO</td>\n      <td>804852</td>\n      <td>254653</td>\n    </tr>\n    <tr>\n      <th>9</th>\n      <td>MA</td>\n      <td>690597</td>\n      <td>161206</td>\n    </tr>\n    <tr>\n      <th>10</th>\n      <td>MG</td>\n      <td>1383460</td>\n      <td>1492047</td>\n    </tr>\n    <tr>\n      <th>11</th>\n      <td>MS</td>\n      <td>567911</td>\n      <td>103111</td>\n    </tr>\n    <tr>\n      <th>12</th>\n      <td>MT</td>\n      <td>1750846</td>\n      <td>124671</td>\n    </tr>\n    <tr>\n      <th>13</th>\n      <td>PA</td>\n      <td>846246</td>\n      <td>258907</td>\n    </tr>\n    <tr>\n      <th>14</th>\n      <td>PB</td>\n      <td>1073704</td>\n      <td>158171</td>\n    </tr>\n    <tr>\n      <th>15</th>\n      <td>PE</td>\n      <td>638723</td>\n      <td>273267</td>\n    </tr>\n    <tr>\n      <th>16</th>\n      <td>PI</td>\n      <td>1639645</td>\n      <td>134863</td>\n    </tr>\n    <tr>\n      <th>17</th>\n      <td>PR</td>\n      <td>938176</td>\n      <td>344917</td>\n    </tr>\n    <tr>\n      <th>18</th>\n      <td>RJ</td>\n      <td>1244391</td>\n      <td>213706</td>\n    </tr>\n    <tr>\n      <th>19</th>\n      <td>RN</td>\n      <td>1107085</td>\n      <td>157565</td>\n    </tr>\n    <tr>\n      <th>20</th>\n      <td>RO</td>\n      <td>753202</td>\n      <td>85604</td>\n    </tr>\n    <tr>\n      <th>21</th>\n      <td>RR</td>\n      <td>607059</td>\n      <td>19881</td>\n    </tr>\n    <tr>\n      <th>22</th>\n      <td>RS</td>\n      <td>585476</td>\n      <td>259023</td>\n    </tr>\n    <tr>\n      <th>23</th>\n      <td>SC</td>\n      <td>1138005</td>\n      <td>227632</td>\n    </tr>\n    <tr>\n      <th>24</th>\n      <td>SE</td>\n      <td>1138490</td>\n      <td>131471</td>\n    </tr>\n    <tr>\n      <th>25</th>\n      <td>SP</td>\n      <td>1615029</td>\n      <td>1001472</td>\n    </tr>\n    <tr>\n      <th>26</th>\n      <td>TO</td>\n      <td>1501325</td>\n      <td>63813</td>\n    </tr>\n  </tbody>\n</table>\n</div>"
     },
     "execution_count": 22,
     "metadata": {},
     "output_type": "execute_result"
    }
   ],
   "source": [
    "pd.read_sql_query(\n",
    "    \"\"\"\n",
    "    SELECT sigla_uf, id_candidato_bd, MAX(votos) AS qtd_votos FROM resultados WHERE cargo = 'deputado federal' GROUP BY sigla_uf;\n",
    "    \"\"\", conn\n",
    ")"
   ],
   "metadata": {
    "collapsed": false,
    "ExecuteTime": {
     "end_time": "2023-10-08T19:41:17.016017Z",
     "start_time": "2023-10-08T19:41:17.001543Z"
    }
   },
   "id": "a4e05bb662939041"
  },
  {
   "cell_type": "markdown",
   "source": [
    "## 4) Considerando a tabela acima, repita a consulta, mas agora adicionando o nome de urna do candidato, que está presente apenas na base \"candidatos\". (0,15)"
   ],
   "metadata": {
    "collapsed": false
   },
   "id": "5ae40bcc0d2f1f66"
  },
  {
   "cell_type": "code",
   "execution_count": 24,
   "outputs": [
    {
     "data": {
      "text/plain": "   sigla_uf id_candidato_bd  qtd_votos              nome_urna\n0        AC           71359      25842           Socorro Neri\n1        AL          527943     219452            Arthur Lira\n2        AM         1210410     288555            Amom Mandel\n3        AP          193247      27112              Josenildo\n4        BA          528494     200909             Otto Filho\n5        CE         1177108     229509        André Fernandes\n6        DF          117641     214733              Bia Kicis\n7        ES          635795     120337         Helder Salomão\n8        GO          804852     254653           Silvye Alves\n9        MA          690597     161206                Detinha\n10       MG         1383460    1492047       Nikolas Ferreira\n11       MS          567911     103111          Marcos Pollon\n12       MT         1750846     124671  Professora Rosa Neide\n13       PA          846246     258907   Dra Alessandra Haber\n14       PB         1073704     158171             Hugo Motta\n15       PE          638723     273267         André Ferreira\n16       PI         1639645     134863            Julio César\n17       PR          938176     344917       Deltan Dallagnol\n18       RJ         1244391     213706    Daniela Do Waguinho\n19       RN         1107085     157565      Natália Bonavides\n20       RO          753202      85604     Dr Fernando Máximo\n21       RR          607059      19881      Jhonatan De Jesus\n22       RS          585476     259023  Tenente Coronel Zucco\n23       SC         1138005     227632          Carol De Toni\n24       SE         1138490     131471        Yandra De André\n25       SP         1615029    1001472       Guilherme Boulos\n26       TO         1501325      63813         Toinho Andrade",
      "text/html": "<div>\n<style scoped>\n    .dataframe tbody tr th:only-of-type {\n        vertical-align: middle;\n    }\n\n    .dataframe tbody tr th {\n        vertical-align: top;\n    }\n\n    .dataframe thead th {\n        text-align: right;\n    }\n</style>\n<table border=\"1\" class=\"dataframe\">\n  <thead>\n    <tr style=\"text-align: right;\">\n      <th></th>\n      <th>sigla_uf</th>\n      <th>id_candidato_bd</th>\n      <th>qtd_votos</th>\n      <th>nome_urna</th>\n    </tr>\n  </thead>\n  <tbody>\n    <tr>\n      <th>0</th>\n      <td>AC</td>\n      <td>71359</td>\n      <td>25842</td>\n      <td>Socorro Neri</td>\n    </tr>\n    <tr>\n      <th>1</th>\n      <td>AL</td>\n      <td>527943</td>\n      <td>219452</td>\n      <td>Arthur Lira</td>\n    </tr>\n    <tr>\n      <th>2</th>\n      <td>AM</td>\n      <td>1210410</td>\n      <td>288555</td>\n      <td>Amom Mandel</td>\n    </tr>\n    <tr>\n      <th>3</th>\n      <td>AP</td>\n      <td>193247</td>\n      <td>27112</td>\n      <td>Josenildo</td>\n    </tr>\n    <tr>\n      <th>4</th>\n      <td>BA</td>\n      <td>528494</td>\n      <td>200909</td>\n      <td>Otto Filho</td>\n    </tr>\n    <tr>\n      <th>5</th>\n      <td>CE</td>\n      <td>1177108</td>\n      <td>229509</td>\n      <td>André Fernandes</td>\n    </tr>\n    <tr>\n      <th>6</th>\n      <td>DF</td>\n      <td>117641</td>\n      <td>214733</td>\n      <td>Bia Kicis</td>\n    </tr>\n    <tr>\n      <th>7</th>\n      <td>ES</td>\n      <td>635795</td>\n      <td>120337</td>\n      <td>Helder Salomão</td>\n    </tr>\n    <tr>\n      <th>8</th>\n      <td>GO</td>\n      <td>804852</td>\n      <td>254653</td>\n      <td>Silvye Alves</td>\n    </tr>\n    <tr>\n      <th>9</th>\n      <td>MA</td>\n      <td>690597</td>\n      <td>161206</td>\n      <td>Detinha</td>\n    </tr>\n    <tr>\n      <th>10</th>\n      <td>MG</td>\n      <td>1383460</td>\n      <td>1492047</td>\n      <td>Nikolas Ferreira</td>\n    </tr>\n    <tr>\n      <th>11</th>\n      <td>MS</td>\n      <td>567911</td>\n      <td>103111</td>\n      <td>Marcos Pollon</td>\n    </tr>\n    <tr>\n      <th>12</th>\n      <td>MT</td>\n      <td>1750846</td>\n      <td>124671</td>\n      <td>Professora Rosa Neide</td>\n    </tr>\n    <tr>\n      <th>13</th>\n      <td>PA</td>\n      <td>846246</td>\n      <td>258907</td>\n      <td>Dra Alessandra Haber</td>\n    </tr>\n    <tr>\n      <th>14</th>\n      <td>PB</td>\n      <td>1073704</td>\n      <td>158171</td>\n      <td>Hugo Motta</td>\n    </tr>\n    <tr>\n      <th>15</th>\n      <td>PE</td>\n      <td>638723</td>\n      <td>273267</td>\n      <td>André Ferreira</td>\n    </tr>\n    <tr>\n      <th>16</th>\n      <td>PI</td>\n      <td>1639645</td>\n      <td>134863</td>\n      <td>Julio César</td>\n    </tr>\n    <tr>\n      <th>17</th>\n      <td>PR</td>\n      <td>938176</td>\n      <td>344917</td>\n      <td>Deltan Dallagnol</td>\n    </tr>\n    <tr>\n      <th>18</th>\n      <td>RJ</td>\n      <td>1244391</td>\n      <td>213706</td>\n      <td>Daniela Do Waguinho</td>\n    </tr>\n    <tr>\n      <th>19</th>\n      <td>RN</td>\n      <td>1107085</td>\n      <td>157565</td>\n      <td>Natália Bonavides</td>\n    </tr>\n    <tr>\n      <th>20</th>\n      <td>RO</td>\n      <td>753202</td>\n      <td>85604</td>\n      <td>Dr Fernando Máximo</td>\n    </tr>\n    <tr>\n      <th>21</th>\n      <td>RR</td>\n      <td>607059</td>\n      <td>19881</td>\n      <td>Jhonatan De Jesus</td>\n    </tr>\n    <tr>\n      <th>22</th>\n      <td>RS</td>\n      <td>585476</td>\n      <td>259023</td>\n      <td>Tenente Coronel Zucco</td>\n    </tr>\n    <tr>\n      <th>23</th>\n      <td>SC</td>\n      <td>1138005</td>\n      <td>227632</td>\n      <td>Carol De Toni</td>\n    </tr>\n    <tr>\n      <th>24</th>\n      <td>SE</td>\n      <td>1138490</td>\n      <td>131471</td>\n      <td>Yandra De André</td>\n    </tr>\n    <tr>\n      <th>25</th>\n      <td>SP</td>\n      <td>1615029</td>\n      <td>1001472</td>\n      <td>Guilherme Boulos</td>\n    </tr>\n    <tr>\n      <th>26</th>\n      <td>TO</td>\n      <td>1501325</td>\n      <td>63813</td>\n      <td>Toinho Andrade</td>\n    </tr>\n  </tbody>\n</table>\n</div>"
     },
     "execution_count": 24,
     "metadata": {},
     "output_type": "execute_result"
    }
   ],
   "source": [
    "pd.read_sql_query(\n",
    "    \"\"\"\n",
    "    SELECT resultados.sigla_uf, resultados.id_candidato_bd, MAX(resultados.votos) AS qtd_votos, candidatos.nome_urna FROM resultados INNER JOIN candidatos ON resultados.id_candidato_bd = candidatos.id_candidato_bd WHERE resultados.cargo = 'deputado federal' GROUP BY resultados.sigla_uf;\n",
    "    \"\"\", conn\n",
    ")"
   ],
   "metadata": {
    "collapsed": false,
    "ExecuteTime": {
     "end_time": "2023-10-08T19:41:44.863683Z",
     "start_time": "2023-10-08T19:41:44.830815Z"
    }
   },
   "id": "ef08087cc2588e02"
  },
  {
   "cell_type": "markdown",
   "source": [
    "## 5) Crie uma tabela que contenha: \n",
    "\n",
    "- o id do candidato\n",
    "- o nome do candidato\n",
    "- o nome de urna do candidato\n",
    "- o partido do candidato\n",
    "- o estado do candidato\n",
    "- o total de receitas do candidato\n",
    "- o total de bens do candidato\n",
    "- o resultado do candidato (se eleito, não eleito, suplente, etc)\n",
    "- a quantidade de votos do candidato no 1º turno\n",
    "\n",
    "(0,4)"
   ],
   "metadata": {
    "collapsed": false
   },
   "id": "c6335f9de5654dd2"
  },
  {
   "cell_type": "code",
   "execution_count": 28,
   "outputs": [
    {
     "data": {
      "text/plain": "     id_candidato_bd                                   nome  \\\n0            1000052                    Lucineia Dos Santos   \n1            1000156           Cristovão Dos Santos Moreira   \n2            1000215                        Marcos Da Costa   \n3            1000334        Carina Amorim Lima Verde Santos   \n4            1000436               Teresinha Depubel Dantas   \n...              ...                                    ...   \n9641          998851              Hemerson Leite Dos Santos   \n9642          998956  Francisco Humberto De Freitas Azevedo   \n9643          999780           Lindomar Barbosa De Mesquita   \n9644           99993         Maria Do Carmo Fontella Araujo   \n9645          999935            Jucimmeiry Barbosa Da Silva   \n\n                     nome_urna sigla_uf sigla_partido  total_receita  \\\n0                  Neia Santos       PR          AGIR        1000.00   \n1                    Cristovão       RJ      PATRIOTA      609600.00   \n2              Marcos Da Costa       SP        AVANTE     1839267.85   \n3            Carina Lima Verde       PI           PTB       72089.06   \n4     Teresinha Depubel Dantas       PR           PMB        2200.00   \n...                        ...      ...           ...            ...   \n9641              Hemerson Tal       AL          AGIR        3000.00   \n9642            Chico Humberto       MG          PRTB      420000.00   \n9643             Mamá Mesquita       CE      PATRIOTA       20900.00   \n9644            Maria Do Carmo       RS          PRTB        7500.00   \n9645            Meiry Do Bazar       GO          AGIR       60000.00   \n\n       total_bens   resultado  votos  \n0             NaN  nao eleito     35  \n1      1677211.41  nao eleito   4226  \n2     39561817.11  nao eleito   6482  \n3             NaN  nao eleito    288  \n4        20000.00  nao eleito    298  \n...           ...         ...    ...  \n9641     13124.00  nao eleito    135  \n9642  10821174.25  nao eleito   3385  \n9643          NaN  nao eleito    518  \n9644     71000.00  nao eleito    104  \n9645    440000.00  nao eleito    242  \n\n[9646 rows x 9 columns]",
      "text/html": "<div>\n<style scoped>\n    .dataframe tbody tr th:only-of-type {\n        vertical-align: middle;\n    }\n\n    .dataframe tbody tr th {\n        vertical-align: top;\n    }\n\n    .dataframe thead th {\n        text-align: right;\n    }\n</style>\n<table border=\"1\" class=\"dataframe\">\n  <thead>\n    <tr style=\"text-align: right;\">\n      <th></th>\n      <th>id_candidato_bd</th>\n      <th>nome</th>\n      <th>nome_urna</th>\n      <th>sigla_uf</th>\n      <th>sigla_partido</th>\n      <th>total_receita</th>\n      <th>total_bens</th>\n      <th>resultado</th>\n      <th>votos</th>\n    </tr>\n  </thead>\n  <tbody>\n    <tr>\n      <th>0</th>\n      <td>1000052</td>\n      <td>Lucineia Dos Santos</td>\n      <td>Neia Santos</td>\n      <td>PR</td>\n      <td>AGIR</td>\n      <td>1000.00</td>\n      <td>NaN</td>\n      <td>nao eleito</td>\n      <td>35</td>\n    </tr>\n    <tr>\n      <th>1</th>\n      <td>1000156</td>\n      <td>Cristovão Dos Santos Moreira</td>\n      <td>Cristovão</td>\n      <td>RJ</td>\n      <td>PATRIOTA</td>\n      <td>609600.00</td>\n      <td>1677211.41</td>\n      <td>nao eleito</td>\n      <td>4226</td>\n    </tr>\n    <tr>\n      <th>2</th>\n      <td>1000215</td>\n      <td>Marcos Da Costa</td>\n      <td>Marcos Da Costa</td>\n      <td>SP</td>\n      <td>AVANTE</td>\n      <td>1839267.85</td>\n      <td>39561817.11</td>\n      <td>nao eleito</td>\n      <td>6482</td>\n    </tr>\n    <tr>\n      <th>3</th>\n      <td>1000334</td>\n      <td>Carina Amorim Lima Verde Santos</td>\n      <td>Carina Lima Verde</td>\n      <td>PI</td>\n      <td>PTB</td>\n      <td>72089.06</td>\n      <td>NaN</td>\n      <td>nao eleito</td>\n      <td>288</td>\n    </tr>\n    <tr>\n      <th>4</th>\n      <td>1000436</td>\n      <td>Teresinha Depubel Dantas</td>\n      <td>Teresinha Depubel Dantas</td>\n      <td>PR</td>\n      <td>PMB</td>\n      <td>2200.00</td>\n      <td>20000.00</td>\n      <td>nao eleito</td>\n      <td>298</td>\n    </tr>\n    <tr>\n      <th>...</th>\n      <td>...</td>\n      <td>...</td>\n      <td>...</td>\n      <td>...</td>\n      <td>...</td>\n      <td>...</td>\n      <td>...</td>\n      <td>...</td>\n      <td>...</td>\n    </tr>\n    <tr>\n      <th>9641</th>\n      <td>998851</td>\n      <td>Hemerson Leite Dos Santos</td>\n      <td>Hemerson Tal</td>\n      <td>AL</td>\n      <td>AGIR</td>\n      <td>3000.00</td>\n      <td>13124.00</td>\n      <td>nao eleito</td>\n      <td>135</td>\n    </tr>\n    <tr>\n      <th>9642</th>\n      <td>998956</td>\n      <td>Francisco Humberto De Freitas Azevedo</td>\n      <td>Chico Humberto</td>\n      <td>MG</td>\n      <td>PRTB</td>\n      <td>420000.00</td>\n      <td>10821174.25</td>\n      <td>nao eleito</td>\n      <td>3385</td>\n    </tr>\n    <tr>\n      <th>9643</th>\n      <td>999780</td>\n      <td>Lindomar Barbosa De Mesquita</td>\n      <td>Mamá Mesquita</td>\n      <td>CE</td>\n      <td>PATRIOTA</td>\n      <td>20900.00</td>\n      <td>NaN</td>\n      <td>nao eleito</td>\n      <td>518</td>\n    </tr>\n    <tr>\n      <th>9644</th>\n      <td>99993</td>\n      <td>Maria Do Carmo Fontella Araujo</td>\n      <td>Maria Do Carmo</td>\n      <td>RS</td>\n      <td>PRTB</td>\n      <td>7500.00</td>\n      <td>71000.00</td>\n      <td>nao eleito</td>\n      <td>104</td>\n    </tr>\n    <tr>\n      <th>9645</th>\n      <td>999935</td>\n      <td>Jucimmeiry Barbosa Da Silva</td>\n      <td>Meiry Do Bazar</td>\n      <td>GO</td>\n      <td>AGIR</td>\n      <td>60000.00</td>\n      <td>440000.00</td>\n      <td>nao eleito</td>\n      <td>242</td>\n    </tr>\n  </tbody>\n</table>\n<p>9646 rows × 9 columns</p>\n</div>"
     },
     "execution_count": 28,
     "metadata": {},
     "output_type": "execute_result"
    }
   ],
   "source": [
    "pd.read_sql_query(\"\"\"SELECT \n",
    "    candidatos.id_candidato_bd, \n",
    "    candidatos.nome,\n",
    "    candidatos.nome_urna,\n",
    "    candidatos.sigla_uf, \n",
    "    candidatos.sigla_partido, \n",
    "    SUM(receitas.valor_receita) as total_receita,\n",
    "    SUM(bens.valor_item) as total_bens,\n",
    "    resultados.resultado,\n",
    "    resultados.votos\n",
    "FROM \n",
    "    candidatos \n",
    "LEFT JOIN \n",
    "    receitas ON candidatos.id_candidato_bd = receitas.id_candidato_bd\n",
    "LEFT JOIN\n",
    "    bens ON candidatos.id_candidato_bd = bens.id_candidato_bd\n",
    "LEFT JOIN\n",
    "    resultados ON candidatos.id_candidato_bd = resultados.id_candidato_bd\n",
    "WHERE resultados.turno = 1\n",
    "GROUP BY \n",
    "    candidatos.id_candidato_bd;\n",
    "\"\"\", conn)"
   ],
   "metadata": {
    "collapsed": false,
    "ExecuteTime": {
     "end_time": "2023-10-08T19:49:31.409557Z",
     "start_time": "2023-10-08T19:49:30.574674Z"
    }
   },
   "id": "a8856f841773e584"
  },
  {
   "cell_type": "code",
   "execution_count": null,
   "outputs": [],
   "source": [],
   "metadata": {
    "collapsed": false
   },
   "id": "c4e5875c8b456d1a"
  }
 ],
 "metadata": {
  "kernelspec": {
   "display_name": "Python 3",
   "language": "python",
   "name": "python3"
  },
  "language_info": {
   "codemirror_mode": {
    "name": "ipython",
    "version": 2
   },
   "file_extension": ".py",
   "mimetype": "text/x-python",
   "name": "python",
   "nbconvert_exporter": "python",
   "pygments_lexer": "ipython2",
   "version": "2.7.6"
  }
 },
 "nbformat": 4,
 "nbformat_minor": 5
}
